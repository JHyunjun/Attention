{
  "nbformat": 4,
  "nbformat_minor": 0,
  "metadata": {
    "colab": {
      "provenance": [],
      "mount_file_id": "1Sb_cUqjJYCDzGCwxJQ6fyozUyO9ZUrZH",
      "authorship_tag": "ABX9TyPPD0M+E8N1+BzGBof1njmM",
      "include_colab_link": true
    },
    "kernelspec": {
      "name": "python3",
      "display_name": "Python 3"
    },
    "language_info": {
      "name": "python"
    },
    "accelerator": "GPU",
    "gpuClass": "standard"
  },
  "cells": [
    {
      "cell_type": "markdown",
      "metadata": {
        "id": "view-in-github",
        "colab_type": "text"
      },
      "source": [
        "<a href=\"https://colab.research.google.com/github/JHyunjun/Attention/blob/main/Transformer_ex.ipynb\" target=\"_parent\"><img src=\"https://colab.research.google.com/assets/colab-badge.svg\" alt=\"Open In Colab\"/></a>"
      ]
    },
    {
      "cell_type": "code",
      "execution_count": 40,
      "metadata": {
        "id": "T-EwvsJNcHZ6",
        "colab": {
          "base_uri": "https://localhost:8080/",
          "height": 634
        },
        "outputId": "76d733d0-e67b-4ffa-ce4c-ffb9c75d608e"
      },
      "outputs": [
        {
          "output_type": "execute_result",
          "data": {
            "text/plain": [
              "   Unnamed: 0        집계일시    평균속도\n",
              "0           0  2021050100   98.63\n",
              "1           1  2021050101  100.53\n",
              "2           2  2021050102   99.86\n",
              "3           3  2021050103   99.34\n",
              "4           4  2021050104   93.64"
            ],
            "text/html": [
              "\n",
              "  <div id=\"df-5f9387d6-e7fd-4f5c-903f-e83d669e36f3\">\n",
              "    <div class=\"colab-df-container\">\n",
              "      <div>\n",
              "<style scoped>\n",
              "    .dataframe tbody tr th:only-of-type {\n",
              "        vertical-align: middle;\n",
              "    }\n",
              "\n",
              "    .dataframe tbody tr th {\n",
              "        vertical-align: top;\n",
              "    }\n",
              "\n",
              "    .dataframe thead th {\n",
              "        text-align: right;\n",
              "    }\n",
              "</style>\n",
              "<table border=\"1\" class=\"dataframe\">\n",
              "  <thead>\n",
              "    <tr style=\"text-align: right;\">\n",
              "      <th></th>\n",
              "      <th>Unnamed: 0</th>\n",
              "      <th>집계일시</th>\n",
              "      <th>평균속도</th>\n",
              "    </tr>\n",
              "  </thead>\n",
              "  <tbody>\n",
              "    <tr>\n",
              "      <th>0</th>\n",
              "      <td>0</td>\n",
              "      <td>2021050100</td>\n",
              "      <td>98.63</td>\n",
              "    </tr>\n",
              "    <tr>\n",
              "      <th>1</th>\n",
              "      <td>1</td>\n",
              "      <td>2021050101</td>\n",
              "      <td>100.53</td>\n",
              "    </tr>\n",
              "    <tr>\n",
              "      <th>2</th>\n",
              "      <td>2</td>\n",
              "      <td>2021050102</td>\n",
              "      <td>99.86</td>\n",
              "    </tr>\n",
              "    <tr>\n",
              "      <th>3</th>\n",
              "      <td>3</td>\n",
              "      <td>2021050103</td>\n",
              "      <td>99.34</td>\n",
              "    </tr>\n",
              "    <tr>\n",
              "      <th>4</th>\n",
              "      <td>4</td>\n",
              "      <td>2021050104</td>\n",
              "      <td>93.64</td>\n",
              "    </tr>\n",
              "  </tbody>\n",
              "</table>\n",
              "</div>\n",
              "      <button class=\"colab-df-convert\" onclick=\"convertToInteractive('df-5f9387d6-e7fd-4f5c-903f-e83d669e36f3')\"\n",
              "              title=\"Convert this dataframe to an interactive table.\"\n",
              "              style=\"display:none;\">\n",
              "        \n",
              "  <svg xmlns=\"http://www.w3.org/2000/svg\" height=\"24px\"viewBox=\"0 0 24 24\"\n",
              "       width=\"24px\">\n",
              "    <path d=\"M0 0h24v24H0V0z\" fill=\"none\"/>\n",
              "    <path d=\"M18.56 5.44l.94 2.06.94-2.06 2.06-.94-2.06-.94-.94-2.06-.94 2.06-2.06.94zm-11 1L8.5 8.5l.94-2.06 2.06-.94-2.06-.94L8.5 2.5l-.94 2.06-2.06.94zm10 10l.94 2.06.94-2.06 2.06-.94-2.06-.94-.94-2.06-.94 2.06-2.06.94z\"/><path d=\"M17.41 7.96l-1.37-1.37c-.4-.4-.92-.59-1.43-.59-.52 0-1.04.2-1.43.59L10.3 9.45l-7.72 7.72c-.78.78-.78 2.05 0 2.83L4 21.41c.39.39.9.59 1.41.59.51 0 1.02-.2 1.41-.59l7.78-7.78 2.81-2.81c.8-.78.8-2.07 0-2.86zM5.41 20L4 18.59l7.72-7.72 1.47 1.35L5.41 20z\"/>\n",
              "  </svg>\n",
              "      </button>\n",
              "      \n",
              "  <style>\n",
              "    .colab-df-container {\n",
              "      display:flex;\n",
              "      flex-wrap:wrap;\n",
              "      gap: 12px;\n",
              "    }\n",
              "\n",
              "    .colab-df-convert {\n",
              "      background-color: #E8F0FE;\n",
              "      border: none;\n",
              "      border-radius: 50%;\n",
              "      cursor: pointer;\n",
              "      display: none;\n",
              "      fill: #1967D2;\n",
              "      height: 32px;\n",
              "      padding: 0 0 0 0;\n",
              "      width: 32px;\n",
              "    }\n",
              "\n",
              "    .colab-df-convert:hover {\n",
              "      background-color: #E2EBFA;\n",
              "      box-shadow: 0px 1px 2px rgba(60, 64, 67, 0.3), 0px 1px 3px 1px rgba(60, 64, 67, 0.15);\n",
              "      fill: #174EA6;\n",
              "    }\n",
              "\n",
              "    [theme=dark] .colab-df-convert {\n",
              "      background-color: #3B4455;\n",
              "      fill: #D2E3FC;\n",
              "    }\n",
              "\n",
              "    [theme=dark] .colab-df-convert:hover {\n",
              "      background-color: #434B5C;\n",
              "      box-shadow: 0px 1px 3px 1px rgba(0, 0, 0, 0.15);\n",
              "      filter: drop-shadow(0px 1px 2px rgba(0, 0, 0, 0.3));\n",
              "      fill: #FFFFFF;\n",
              "    }\n",
              "  </style>\n",
              "\n",
              "      <script>\n",
              "        const buttonEl =\n",
              "          document.querySelector('#df-5f9387d6-e7fd-4f5c-903f-e83d669e36f3 button.colab-df-convert');\n",
              "        buttonEl.style.display =\n",
              "          google.colab.kernel.accessAllowed ? 'block' : 'none';\n",
              "\n",
              "        async function convertToInteractive(key) {\n",
              "          const element = document.querySelector('#df-5f9387d6-e7fd-4f5c-903f-e83d669e36f3');\n",
              "          const dataTable =\n",
              "            await google.colab.kernel.invokeFunction('convertToInteractive',\n",
              "                                                     [key], {});\n",
              "          if (!dataTable) return;\n",
              "\n",
              "          const docLinkHtml = 'Like what you see? Visit the ' +\n",
              "            '<a target=\"_blank\" href=https://colab.research.google.com/notebooks/data_table.ipynb>data table notebook</a>'\n",
              "            + ' to learn more about interactive tables.';\n",
              "          element.innerHTML = '';\n",
              "          dataTable['output_type'] = 'display_data';\n",
              "          await google.colab.output.renderOutput(dataTable, element);\n",
              "          const docLink = document.createElement('div');\n",
              "          docLink.innerHTML = docLinkHtml;\n",
              "          element.appendChild(docLink);\n",
              "        }\n",
              "      </script>\n",
              "    </div>\n",
              "  </div>\n",
              "  "
            ]
          },
          "metadata": {},
          "execution_count": 40
        },
        {
          "output_type": "display_data",
          "data": {
            "text/plain": [
              "<Figure size 500x500 with 1 Axes>"
            ],
            "image/png": "[encoded data removed]"
          },
          "metadata": {}
        }
      ],
      "source": [
        "import numpy as np \n",
        "import pandas as pd \n",
        "import matplotlib.pyplot as plt\n",
        "from torch.nn import Transformer\n",
        "from torch import nn\n",
        "import torch\n",
        "import math\n",
        "\n",
        "rawdata = pd.read_csv(\"/content/drive/MyDrive/Colab Notebooks/Data/서인천IC-부평IC 평균속도.csv\", encoding='CP949')\n",
        "plt.figure(figsize=(5,5))\n",
        "plt.plot(range(len(rawdata)), rawdata[\"평균속도\"])\n",
        "rawdata.head()"
      ]
    },
    {
      "cell_type": "code",
      "source": [
        "from sklearn.preprocessing import MinMaxScaler\n",
        "min_max_scaler = MinMaxScaler()\n",
        "rawdata[\"평균속도\"] = min_max_scaler.fit_transform(rawdata[\"평균속도\"].to_numpy().reshape(-1,1))"
      ],
      "metadata": {
        "id": "Syy9BVza2g7m"
      },
      "execution_count": 41,
      "outputs": []
    },
    {
      "cell_type": "code",
      "source": [
        "train = rawdata[:-24*7]\n",
        "data_train = train[\"평균속도\"].to_numpy()\n",
        "\n",
        "test = rawdata[-24*7:]\n",
        "data_test = test[\"평균속도\"].to_numpy()\n",
        "print(data_train.shape) #576\n",
        "print(data_test.shape) #168"
      ],
      "metadata": {
        "colab": {
          "base_uri": "https://localhost:8080/"
        },
        "id": "ISDSEmVv2khz",
        "outputId": "7fe4b67b-2a6d-4be9-db68-bd5e0690f570"
      },
      "execution_count": 42,
      "outputs": [
        {
          "output_type": "stream",
          "name": "stdout",
          "text": [
            "(576,)\n",
            "(168,)\n"
          ]
        }
      ]
    },
    {
      "cell_type": "code",
      "source": [
        "from torch.utils.data import DataLoader, Dataset\n",
        "class windowDataset(Dataset):\n",
        "    def __init__(self, y, input_window=80, output_window=20, stride=5):\n",
        "        #총 데이터의 개수\n",
        "        L = y.shape[0]\n",
        "        #stride씩 움직일 때 생기는 총 sample의 개수\n",
        "        num_samples = (L - input_window - output_window) // stride + 1\n",
        "\n",
        "        #input과 output\n",
        "        X = np.zeros([input_window, num_samples])\n",
        "        Y = np.zeros([output_window, num_samples])\n",
        "\n",
        "        for i in np.arange(num_samples):\n",
        "            start_x = stride*i\n",
        "            end_x = start_x + input_window\n",
        "            X[:,i] = y[start_x:end_x]\n",
        "\n",
        "            start_y = stride*i + input_window\n",
        "            end_y = start_y + output_window\n",
        "            Y[:,i] = y[start_y:end_y]\n",
        "\n",
        "        X = X.reshape(X.shape[0], X.shape[1], 1).transpose((1,0,2))\n",
        "        Y = Y.reshape(Y.shape[0], Y.shape[1], 1).transpose((1,0,2))\n",
        "        self.x = X\n",
        "        self.y = Y\n",
        "        \n",
        "        self.len = len(X)\n",
        "    def __getitem__(self, i):\n",
        "        return self.x[i], self.y[i]\n",
        "    def __len__(self):\n",
        "        return self.len"
      ],
      "metadata": {
        "id": "kwUPDT7q2sFb"
      },
      "execution_count": 43,
      "outputs": []
    },
    {
      "cell_type": "code",
      "source": [
        "iw = 24*14\n",
        "ow = 24*7\n",
        "\n",
        "train_dataset = windowDataset(data_train, input_window=iw, output_window=ow, stride=1)\n",
        "train_loader = DataLoader(train_dataset, batch_size=64)"
      ],
      "metadata": {
        "id": "6Oy0RNfA2vHb"
      },
      "execution_count": 44,
      "outputs": []
    },
    {
      "cell_type": "code",
      "source": [
        "class TFModel(nn.Module):\n",
        "    def __init__(self,iw, ow, d_model, nhead, nlayers, dropout=0.5):\n",
        "        super(TFModel, self).__init__()\n",
        "        self.encoder_layer = nn.TransformerEncoderLayer(d_model=d_model, nhead=nhead, dropout=dropout)\n",
        "        self.transformer_encoder = nn.TransformerEncoder(self.encoder_layer, num_layers=nlayers) \n",
        "        self.pos_encoder = PositionalEncoding(d_model, dropout)\n",
        "\n",
        "        self.encoder = nn.Sequential(\n",
        "            nn.Linear(1, d_model//2),\n",
        "            nn.ReLU(),\n",
        "            nn.Linear(d_model//2, d_model)\n",
        "        )\n",
        "        \n",
        "        self.linear =  nn.Sequential(\n",
        "            nn.Linear(d_model, d_model//2),\n",
        "            nn.ReLU(),\n",
        "            nn.Linear(d_model//2, 1)\n",
        "        )\n",
        "\n",
        "        self.linear2 = nn.Sequential(\n",
        "            nn.Linear(iw, (iw+ow)//2),\n",
        "            nn.ReLU(),\n",
        "            nn.Linear((iw+ow)//2, ow)\n",
        "        ) \n",
        "\n",
        "    def generate_square_subsequent_mask(self, sz):\n",
        "        mask = (torch.triu(torch.ones(sz, sz)) == 1).transpose(0, 1)\n",
        "        mask = mask.float().masked_fill(mask == 0, float('-inf')).masked_fill(mask == 1, float(0.0))\n",
        "        return mask\n",
        "\n",
        "    def forward(self, src, srcmask):\n",
        "        src = self.encoder(src)\n",
        "        src = self.pos_encoder(src)\n",
        "        output = self.transformer_encoder(src.transpose(0,1), srcmask).transpose(0,1)\n",
        "        output = self.linear(output)[:,:,0]\n",
        "        output = self.linear2(output)\n",
        "        return output\n",
        "\n",
        "class PositionalEncoding(nn.Module):\n",
        "    def __init__(self, d_model, dropout=0.1, max_len=5000):\n",
        "        super(PositionalEncoding, self).__init__()\n",
        "        self.dropout = nn.Dropout(p=dropout)\n",
        "\n",
        "        pe = torch.zeros(max_len, d_model)\n",
        "        position = torch.arange(0, max_len, dtype=torch.float).unsqueeze(1)\n",
        "        div_term = torch.exp(torch.arange(0, d_model, 2).float() * (-math.log(10000.0) / d_model))\n",
        "        pe[:, 0::2] = torch.sin(position * div_term)\n",
        "        pe[:, 1::2] = torch.cos(position * div_term)\n",
        "        pe = pe.unsqueeze(0).transpose(0, 1)\n",
        "        self.register_buffer('pe', pe)\n",
        "\n",
        "    def forward(self, x):\n",
        "        x = x + self.pe[:x.size(0), :]\n",
        "        return self.dropout(x)\n",
        "\n",
        "def gen_attention_mask(x):\n",
        "    mask = torch.eq(x, 0)\n",
        "    return mask"
      ],
      "metadata": {
        "id": "rYmjOPKg3GzX"
      },
      "execution_count": 45,
      "outputs": []
    },
    {
      "cell_type": "code",
      "source": [
        "device = torch.device(\"cuda\")\n",
        "lr = 1e-4\n",
        "model = TFModel(24*7*2, 24*7, 512, 8, 4, 0.1).to(device)\n",
        "criterion = nn.MSELoss()\n",
        "optimizer = torch.optim.Adam(model.parameters(), lr=lr)"
      ],
      "metadata": {
        "id": "cqrHavuE3Oez"
      },
      "execution_count": 46,
      "outputs": []
    },
    {
      "cell_type": "code",
      "source": [
        "from tqdm import tqdm\n",
        "epoch = 1000\n",
        "model.train()\n",
        "progress = tqdm(range(epoch))\n",
        "\n",
        "for i in progress:\n",
        "    batchloss = 0.0\n",
        "    for (inputs, outputs) in train_loader:\n",
        "        optimizer.zero_grad()\n",
        "        src_mask = model.generate_square_subsequent_mask(inputs.shape[1]).to(device)\n",
        "        result = model(inputs.float().to(device),  src_mask)\n",
        "        loss = criterion(result, outputs[:,:,0].float().to(device))\n",
        "        loss.backward()\n",
        "        optimizer.step()\n",
        "        batchloss += loss\n",
        "    progress.set_description(\"loss: {:0.6f}\".format(batchloss.cpu().item() / len(train_loader)))"
      ],
      "metadata": {
        "colab": {
          "base_uri": "https://localhost:8080/"
        },
        "id": "OwRuq3fH3Rwr",
        "outputId": "89d32b5b-695c-4479-ecb3-be156f800e09"
      },
      "execution_count": null,
      "outputs": [
        {
          "output_type": "stream",
          "name": "stderr",
          "text": [
            "loss: 0.028698:   9%|▊         | 86/1000 [01:01<10:59,  1.39it/s]"
          ]
        }
      ]
    },
    {
      "cell_type": "code",
      "source": [
        "def evaluate():\n",
        "    input = torch.tensor(data_train[-24*7*2:]).reshape(1,-1,1).to(device).float().to(device)\n",
        "    model.eval()\n",
        "    \n",
        "    src_mask = model.generate_square_subsequent_mask(input.shape[1]).to(device)\n",
        "    predictions = model(input, src_mask)\n",
        "    return predictions.detach().cpu().numpy()"
      ],
      "metadata": {
        "id": "7tCPQhQ23Ul7"
      },
      "execution_count": null,
      "outputs": []
    },
    {
      "cell_type": "code",
      "source": [
        "result = evaluate()\n",
        "result = min_max_scaler.inverse_transform(result)[0]\n",
        "real = rawdata[\"평균속도\"].to_numpy()\n",
        "real = min_max_scaler.inverse_transform(real.reshape(-1,1))[:,0]\n",
        "\n",
        "\n",
        "plt.figure(figsize=(20,5))\n",
        "plt.plot(range(400,744),real[400:], label=\"real\")\n",
        "plt.plot(range(744-24*7,744),result, label=\"predict\")\n",
        "plt.legend()\n",
        "plt.show()"
      ],
      "metadata": {
        "id": "y7jXXtAz3XhT"
      },
      "execution_count": null,
      "outputs": []
    }
  ]
}