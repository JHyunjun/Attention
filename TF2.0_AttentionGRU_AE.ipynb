{
  "nbformat": 4,
  "nbformat_minor": 0,
  "metadata": {
    "colab": {
      "private_outputs": true,
      "provenance": [],
      "mount_file_id": "1bJWMo70N4KTzfh44a_pyaqLsp-uTyzM-",
      "authorship_tag": "ABX9TyNSqLBWp4VUbmrF1Onf8hiq",
      "include_colab_link": true
    },
    "kernelspec": {
      "name": "python3",
      "display_name": "Python 3"
    },
    "language_info": {
      "name": "python"
    },
    "accelerator": "GPU",
    "gpuClass": "standard"
  },
  "cells": [
    {
      "cell_type": "markdown",
      "metadata": {
        "id": "view-in-github",
        "colab_type": "text"
      },
      "source": [
        "<a href=\"https://colab.research.google.com/github/JHyunjun/Attention/blob/main/TF2.0_AttentionGRU_AE.ipynb\" target=\"_parent\"><img src=\"https://colab.research.google.com/assets/colab-badge.svg\" alt=\"Open In Colab\"/></a>"
      ]
    },
    {
      "cell_type": "code",
      "source": [
        "# Created by Hyunjun,JANG\n",
        "# limitsinx.tistory.com\n",
        "# Last revision date : 2023.03.08\n",
        "\n",
        "from sklearn.preprocessing import StandardScaler, MinMaxScaler\n",
        "import tensorflow as tf\n",
        "import matplotlib.pyplot as plt\n",
        "import pandas as pd\n",
        "import numpy as np\n",
        "\n",
        "xy_train = np.loadtxt('/content/drive/MyDrive/Colab Notebooks/LSTM/train_v.txt',delimiter=',',dtype=np.float32) #5808\n",
        "xy_test = np.loadtxt('/content/drive/MyDrive/Colab Notebooks/LSTM/test_v.txt',delimiter=',',dtype=np.float32) #10883\n",
        "#xy_test = xy_train\n",
        "\n",
        "def MinMaxScaler(data) : # Normal Std\n",
        "  numerator = data - np.min(data,0)\n",
        "  denominator = np.max(data,0) - np.min(data,0)\n",
        "\n",
        "  return numerator / (denominator + 1e-7)\n",
        "\n",
        "xy_train = MinMaxScaler(xy_train)\n",
        "xy_test = MinMaxScaler(xy_test)\n"
      ],
      "metadata": {
        "id": "1l02U5Re6bZc"
      },
      "execution_count": null,
      "outputs": []
    },
    {
      "cell_type": "code",
      "source": [
        "# Data Sequence Setting\n",
        "\n",
        "TIME_STEPS = 5\n",
        "seq_length = TIME_STEPS\n",
        "\n",
        "train_set = xy_train\n",
        "test_set = xy_test\n",
        "\n",
        "def build_dataset(time_series, seq_length) : \n",
        "  dataX = []\n",
        "  dataY = []\n",
        "  for i in range(0, len(time_series) -seq_length) : \n",
        "    x = time_series[i:i+seq_length , : :]\n",
        "    y = time_series[i + seq_length -1, :]\n",
        "    dataX.append(x)\n",
        "    dataY.append(y)\n",
        "\n",
        "  return np.array(dataX), np.array(dataY)\n",
        "\n",
        "trainX, trainY = build_dataset(train_set, seq_length)\n",
        "testX, testY = build_dataset(test_set, seq_length)\n",
        "\n",
        "print(trainX.shape, trainY.shape) #(# of datas, Time_steps, features)\n",
        "\n",
        "INPUT_DIM = trainX.shape[2]"
      ],
      "metadata": {
        "id": "Ajf3ryn47eG8"
      },
      "execution_count": null,
      "outputs": []
    },
    {
      "cell_type": "code",
      "source": [
        "#AttentionGRUAE NEW\n",
        "\n",
        "latent_dim = int((INPUT_DIM * TIME_STEPS)/10) #(5 * 20)/10 = 10\n",
        "\n",
        "def attention_layer_encoder(inputs) :\n",
        "  input_dim = int(inputs.shape[2])\n",
        "  a = tf.keras.layers.Permute((2,1))(inputs)\n",
        "  a = tf.keras.layers.Dense(TIME_STEPS, activation = 'softmax')(a)\n",
        "  a_probs = tf.keras.layers.Permute((2,1), name = 'attention_vec_encoder')(a)\n",
        "  output_attention_mul = tf.keras.layers.multiply([inputs, a_probs])\n",
        "\n",
        "  return output_attention_mul\n",
        "\n",
        "def attention_layer_decoder(inputs) :\n",
        "  input_dim = int(inputs.shape[2])\n",
        "  a = tf.keras.layers.Permute((2,1))(inputs)\n",
        "  a = tf.keras.layers.Dense(TIME_STEPS, activation = 'softmax')(a)\n",
        "  a_probs = tf.keras.layers.Permute((2,1), name = 'attention_vec_decoder')(a)\n",
        "  output_attention_mul = tf.keras.layers.multiply([inputs, a_probs])\n",
        "\n",
        "  return output_attention_mul\n",
        "\n",
        "def Attention_GRU_AE() : \n",
        "  # Encoding\n",
        "  inputs = tf.keras.Input(shape = (TIME_STEPS, INPUT_DIM, ))\n",
        "  print(\"A : \", inputs.shape)\n",
        "  gru_units = 32\n",
        "  gru_out = tf.keras.layers.GRU(gru_units, return_sequences = True)(inputs)\n",
        "  print(\"B : \", gru_out.shape)\n",
        "  gru_out = tf.keras.layers.GRU(gru_units, return_sequences = True)(gru_out)\n",
        "  print(\"C : \", gru_out.shape)\n",
        "  encoder_output = attention_layer_encoder(gru_out)\n",
        "  print(\"D : \", encoder_output.shape)\n",
        "  # Decoding\n",
        "  decoder_gru_units = 32\n",
        "  decoder_gru_out = tf.keras.layers.GRU(decoder_gru_units, return_sequences = True)(encoder_output)\n",
        "  print(\"G : \",  decoder_gru_out.shape)\n",
        "  decoder_gru_out = tf.keras.layers.GRU(decoder_gru_units, return_sequences = True)(decoder_gru_out)\n",
        "  print(\"H : \",  decoder_gru_out.shape)\n",
        "  attention_decoder = attention_layer_decoder(decoder_gru_out)\n",
        "  print(\"I : \",  attention_decoder.shape)\n",
        "  attention_decoder = tf.keras.layers.Flatten()(attention_decoder)\n",
        "  print(\"J : \",  attention_decoder.shape)\n",
        "  output = tf.keras.layers.Dense(INPUT_DIM, activation = 'sigmoid')(attention_decoder)\n",
        "  print(\"K : \",  output.shape)\n",
        "  model = tf.keras.Model(inputs = [inputs], outputs = output)\n",
        "\n",
        "  return model"
      ],
      "metadata": {
        "id": "geadwNwt8otb"
      },
      "execution_count": null,
      "outputs": []
    },
    {
      "cell_type": "code",
      "source": [
        "#RUN\n",
        "modelhj = Attention_GRU_AE()\n",
        "modelhj.compile(optimizer = 'adam', loss = 'mse')\n",
        "modelhj.fit(trainX, trainY, epochs = 3, batch_size = 1, validation_split = 0)"
      ],
      "metadata": {
        "id": "rfl-ekjuaKNQ"
      },
      "execution_count": null,
      "outputs": []
    },
    {
      "cell_type": "code",
      "source": [
        "# Training\n",
        "trainY_predict = modelhj.predict(trainX)\n",
        "print(trainY_predict.shape)"
      ],
      "metadata": {
        "id": "V2rx6W_KgxSg"
      },
      "execution_count": null,
      "outputs": []
    },
    {
      "cell_type": "code",
      "source": [
        "trainY_predict_0 = trainY_predict[:,0]\n",
        "trainY_predict_1 = trainY_predict[:,1]\n",
        "trainY_predict_2 = trainY_predict[:,2]\n",
        "trainY_predict_3 = trainY_predict[:,3]\n",
        "trainY_predict_4 = trainY_predict[:,4]\n",
        "\n",
        "#Figure\n",
        "plt.figure(figsize = (6,8))\n",
        "plt.plot(trainY[seq_length:,0], color = 'blue')\n",
        "plt.plot(trainY_predict_0, color = 'red')\n",
        "plt.legend(['Real Current','Predicted Current'])\n",
        "\n",
        "#Figure\n",
        "plt.figure(figsize = (6,8))\n",
        "plt.plot(trainY[seq_length:,1], color = 'blue')\n",
        "plt.plot(trainY_predict_1, color = 'red')\n",
        "plt.legend(['Real Temperature','Predicted Temperature'])\n",
        "\n",
        "#Figure\n",
        "plt.figure(figsize = (6,8))\n",
        "plt.plot(trainY[seq_length:,2], color = 'blue')\n",
        "plt.plot(trainY_predict_2, color = 'red')\n",
        "plt.legend(['Real SOC','Predicted SOC'])\n",
        "\n",
        "#Figure\n",
        "plt.figure(figsize = (6,8))\n",
        "plt.plot(trainY[seq_length:,3], color = 'blue')\n",
        "plt.plot(trainY_predict_3, color = 'red')\n",
        "plt.legend(['Real Current','Predicted Current'])\n",
        "\n",
        "#Figure\n",
        "plt.figure(figsize = (6,8))\n",
        "plt.plot(trainY[seq_length:,4], color = 'blue')\n",
        "plt.plot(trainY_predict_4, color = 'red')\n",
        "plt.legend(['Real Voltage','Predicted Voltage'])"
      ],
      "metadata": {
        "id": "Vd3Hli2qhDUc"
      },
      "execution_count": null,
      "outputs": []
    }
  ]
}