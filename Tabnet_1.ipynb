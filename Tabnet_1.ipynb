{
  "nbformat": 4,
  "nbformat_minor": 0,
  "metadata": {
    "colab": {
      "private_outputs": true,
      "provenance": [],
      "authorship_tag": "ABX9TyOZc5DKC1C+IF6At0Ub5+ko",
      "include_colab_link": true
    },
    "kernelspec": {
      "name": "python3",
      "display_name": "Python 3"
    },
    "language_info": {
      "name": "python"
    },
    "accelerator": "GPU",
    "gpuClass": "standard"
  },
  "cells": [
    {
      "cell_type": "markdown",
      "metadata": {
        "id": "view-in-github",
        "colab_type": "text"
      },
      "source": [
        "<a href=\"https://colab.research.google.com/github/JHyunjun/Attention/blob/main/Tabnet_1.ipynb\" target=\"_parent\"><img src=\"https://colab.research.google.com/assets/colab-badge.svg\" alt=\"Open In Colab\"/></a>"
      ]
    },
    {
      "cell_type": "code",
      "execution_count": null,
      "metadata": {
        "id": "ZDp3GIi6p7kl"
      },
      "outputs": [],
      "source": [
        "pip install torch numpy scikit-learn pytorch-tabnet"
      ]
    },
    {
      "cell_type": "code",
      "source": [
        "import numpy as np\n",
        "import torch\n",
        "from pytorch_tabnet.tab_model import TabNetRegressor\n",
        "from sklearn.model_selection import train_test_split\n",
        "from sklearn.preprocessing import StandardScaler\n",
        "\n",
        "# 주가 데이터 생성 (예시)\n",
        "np.random.seed(42)\n",
        "n_samples = 1000\n",
        "time_steps = 50\n",
        "n_features = 3\n",
        "X = np.random.rand(n_samples, time_steps, n_features)\n",
        "\n",
        "# 데이터 정규화\n",
        "scaler = StandardScaler()\n",
        "X_norm = scaler.fit_transform(X.reshape(-1, n_features)).reshape(n_samples, time_steps, n_features)\n",
        "\n",
        "# 훈련 및 검증 데이터 분할\n",
        "X_train, X_val, _, _ = train_test_split(X_norm, X_norm, test_size=0.2, random_state=42)\n",
        "\n",
        "# 입력 및 출력 크기 정의\n",
        "input_dim = time_steps * n_features\n",
        "output_dim = time_steps * n_features\n",
        "\n",
        "# TabNet AutoEncoder 모델 정의\n",
        "tabnet_autoencoder = TabNetRegressor(n_d=16, n_a=16, n_steps=5, gamma=1.3, n_independent=2, n_shared=2, epsilon=1e-15,\n",
        "                                     optimizer_fn=torch.optim.Adam,\n",
        "                                     optimizer_params=dict(lr=1e-3), scheduler_params=None, scheduler_fn=None,\n",
        "                                     mask_type='entmax', input_dim=input_dim, output_dim=output_dim)\n",
        "\n",
        "# 모델 훈련\n",
        "tabnet_autoencoder.fit(X_train=X_train.reshape(-1, input_dim), y_train=X_train.reshape(-1, input_dim),\n",
        "                       eval_set=[(X_val.reshape(-1, input_dim), X_val.reshape(-1, input_dim))],\n",
        "                       max_epochs=100, patience=10, batch_size=32, virtual_batch_size=32)\n",
        "\n",
        "# 모델 평가 및 예측\n",
        "X_val_encoded = tabnet_autoencoder.predict(X_val.reshape(-1, input_dim))\n",
        "X_val_encoded = X_val_encoded.reshape(-1, time_steps, n_features)\n"
      ],
      "metadata": {
        "id": "ujyE-UWFrBol"
      },
      "execution_count": null,
      "outputs": []
    },
    {
      "cell_type": "code",
      "source": [
        "print(X_val_encoded.shape)"
      ],
      "metadata": {
        "id": "vi7MiiMzs37W"
      },
      "execution_count": null,
      "outputs": []
    },
    {
      "cell_type": "code",
      "source": [
        "import matplotlib.pyplot as plt\n",
        "\n",
        "# Reconstruction Error 계산\n",
        "reconstruction_error = np.mean((X_val - X_val_encoded) ** 2, axis=(1, 2))\n",
        "\n",
        "# Reconstruction Error 시각화\n",
        "plt.figure(figsize=(6, 6))\n",
        "plt.plot(reconstruction_error)\n",
        "plt.xlabel('Sample index')\n",
        "plt.ylabel('Reconstruction Error')\n",
        "plt.title('Reconstruction Error for Validation Data')\n",
        "plt.show()"
      ],
      "metadata": {
        "id": "pu0QaLwIspwB"
      },
      "execution_count": null,
      "outputs": []
    },
    {
      "cell_type": "markdown",
      "source": [],
      "metadata": {
        "id": "ljqbuNrCrCaH"
      }
    }
  ]
}