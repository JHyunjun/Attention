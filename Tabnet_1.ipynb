{
  "nbformat": 4,
  "nbformat_minor": 0,
  "metadata": {
    "colab": {
      "private_outputs": true,
      "provenance": [],
      "mount_file_id": "1WfluHSHoNeBbd7TnOt_6JZ2eUw3RwCRh",
      "authorship_tag": "ABX9TyNbLLUYvQjGr3xk0bLRRFLs",
      "include_colab_link": true
    },
    "kernelspec": {
      "name": "python3",
      "display_name": "Python 3"
    },
    "language_info": {
      "name": "python"
    },
    "accelerator": "GPU",
    "gpuClass": "standard"
  },
  "cells": [
    {
      "cell_type": "markdown",
      "metadata": {
        "id": "view-in-github",
        "colab_type": "text"
      },
      "source": [
        "<a href=\"https://colab.research.google.com/github/JHyunjun/Attention/blob/main/Tabnet_1.ipynb\" target=\"_parent\"><img src=\"https://colab.research.google.com/assets/colab-badge.svg\" alt=\"Open In Colab\"/></a>"
      ]
    },
    {
      "cell_type": "code",
      "execution_count": null,
      "metadata": {
        "id": "ZDp3GIi6p7kl"
      },
      "outputs": [],
      "source": [
        "pip install torch numpy scikit-learn pytorch-tabnet"
      ]
    },
    {
      "cell_type": "code",
      "source": [
        "import numpy as np\n",
        "import torch\n",
        "from pytorch_tabnet.tab_model import TabNetRegressor\n",
        "from sklearn.model_selection import train_test_split\n",
        "from sklearn.preprocessing import StandardScaler\n",
        "\n",
        "xy_train = np.loadtxt('/content/drive/MyDrive/Colab Notebooks/LSTM/train_v.txt',delimiter=',',dtype=np.float32) #5808\n",
        "xy_test = np.loadtxt('/content/drive/MyDrive/Colab Notebooks/LSTM/test_v.txt',delimiter=',',dtype=np.float32) #10883\n",
        "\n",
        "\n",
        "def MinMaxScaler(data) : # Normal Std\n",
        "  numerator = data - np.min(data,0)\n",
        "  denominator = np.max(data,0) - np.min(data,0)\n",
        "\n",
        "  return numerator / (denominator + 1e-7)\n",
        "\n",
        "def origin_minmax(data) : # HJ STYLE\n",
        "  arr_max = np.zeros(data.shape[1])\n",
        "  arr_min = np.zeros(data.shape[1])\n",
        "\n",
        "  for i in range(data.shape[1]) : \n",
        "    max = np.max(data[:,i])\n",
        "    min = np.min(data[:,i])\n",
        "    arr_max[i] = max\n",
        "    arr_min[i] = min\n",
        "    pass\n",
        "  return arr_max, arr_min\n",
        "\n",
        "arr_max_train, arr_min_train = origin_minmax(xy_train)\n",
        "arr_max_test, arr_min_test = origin_minmax(xy_test)\n",
        "arr_max_total = arr_max_train\n",
        "arr_min_total = arr_min_train\n",
        "print(arr_max_train, arr_min_train)\n",
        "print(arr_max_test, arr_min_test)\n",
        "\n",
        "for i in range(xy_train.shape[1]) : \n",
        "  print(i)\n",
        "  if(arr_max_train[i] > arr_max_test[i]) : \n",
        "    arr_max_total[i] = arr_max_train[i]\n",
        "  else : \n",
        "    arr_max_total[i] = arr_max_test[i]\n",
        "  pass\n",
        "\n",
        "for i in range(xy_train.shape[1]) : \n",
        "  if(arr_min_train[i] < arr_min_test[i]) : \n",
        "    arr_min_total[i] = arr_min_train[i]\n",
        "  else : \n",
        "    arr_min_total[i] = arr_min_test[i]\n",
        "  pass\n",
        "\n",
        "print(arr_max_total, arr_min_total)\n",
        "\n",
        "def HJ_MinMaxScaler(data) : \n",
        "  for i in range(data.shape[1]) : \n",
        "    numerator = data[:,i] - arr_min_total[i]\n",
        "    denominator = arr_max_total[i] - arr_min_total[i]\n",
        "    data[:,i] = numerator / (denominator + 1e-7)\n",
        "    \n",
        "  return data\n",
        "\n",
        "def HJ_backMinMax(data) : \n",
        "  for i in range(data.shape[1]) : \n",
        "    data[:,i] = data[:,i] * (arr_max_total[i] - arr_min_total[i]) + arr_min_total[i]\n",
        "\n",
        "  return data\n",
        "\n",
        "xy_train_scale = HJ_MinMaxScaler(xy_train)\n",
        "xy_test_scale = HJ_MinMaxScaler(xy_test)\n",
        "\n",
        "# Data Sequence Setting\n",
        "TIME_STEPS = 5\n",
        "seq_length = TIME_STEPS\n",
        "\n",
        "train_set = xy_train_scale\n",
        "test_set = xy_test_scale\n",
        "\n",
        "def build_dataset(time_series, seq_length) : \n",
        "  dataX = []\n",
        "  dataY = []\n",
        "  for i in range(0, len(time_series) -seq_length) : \n",
        "    x = time_series[i:i+seq_length , : :]\n",
        "    y = time_series[i + seq_length -1, :]\n",
        "    dataX.append(x)\n",
        "    dataY.append(y)\n",
        "\n",
        "  return np.array(dataX), np.array(dataY)\n",
        "\n",
        "trainX, trainY = build_dataset(train_set, seq_length)\n",
        "testX, testY = build_dataset(test_set, seq_length)\n",
        "\n",
        "print(trainX.shape, trainY.shape) #(# of datas, Time_steps, features)\n",
        "\n",
        "INPUT_DIM = trainX.shape[2]"
      ],
      "metadata": {
        "id": "y5wtiMtwvxeY"
      },
      "execution_count": null,
      "outputs": []
    },
    {
      "cell_type": "code",
      "source": [
        "print(trainX.shape,trainY.shape)\n",
        "print(testX.shape,testY.shape)"
      ],
      "metadata": {
        "id": "hMl0cJ_MwX4Q"
      },
      "execution_count": null,
      "outputs": []
    },
    {
      "cell_type": "code",
      "source": [
        "time_steps = TIME_STEPS\n",
        "n_features = INPUT_DIM\n",
        "\n",
        "X_train = trainX\n",
        "y_train = trainX\n",
        "\n",
        "X_val = testX\n",
        "y_val = testX\n",
        "\n",
        "# 입력 및 출력 크기 정의\n",
        "input_dim = time_steps * n_features\n",
        "output_dim = time_steps * n_features\n",
        "\n",
        "# TabNet AutoEncoder 모델 정의\n",
        "tabnet_autoencoder = TabNetRegressor(n_d=16, n_a=16, n_steps=5*2, gamma=1.3, n_independent=2, n_shared=2, epsilon=1e-15,\n",
        "                                     optimizer_fn=torch.optim.Adam,\n",
        "                                     optimizer_params=dict(lr=0.002), scheduler_params=None, scheduler_fn=None,\n",
        "                                     mask_type='entmax', input_dim=input_dim, output_dim=output_dim)\n",
        "\n",
        "# 모델 훈련\n",
        "tabnet_autoencoder.fit(X_train=X_train.reshape(-1, input_dim), y_train=X_train.reshape(-1, input_dim),\n",
        "                       eval_set=[(X_val.reshape(-1, input_dim), X_val.reshape(-1, input_dim))],\n",
        "                       max_epochs=100, patience=3, batch_size=32, virtual_batch_size=32)"
      ],
      "metadata": {
        "id": "ujyE-UWFrBol"
      },
      "execution_count": null,
      "outputs": []
    },
    {
      "cell_type": "code",
      "source": [
        "# Model Evaluation\n",
        "X_val_encoded = tabnet_autoencoder.predict(X_val.reshape(-1, input_dim))\n",
        "X_val_encoded = X_val_encoded.reshape(-1, time_steps, n_features)\n",
        "Error = X_val - X_val_encoded\n",
        "\n",
        "print(\"X_val : \",X_val.shape, X_val)\n",
        "print(\"X_val_encoded : \",X_val_encoded.shape, X_val_encoded)\n",
        "print(\"Error : \", Error)\n",
        "\n",
        "testa=X_train.reshape(-1, input_dim)"
      ],
      "metadata": {
        "id": "NAVovjAW2S6m"
      },
      "execution_count": null,
      "outputs": []
    },
    {
      "cell_type": "code",
      "source": [
        "import matplotlib.pyplot as plt\n",
        "X_train_encoded = tabnet_autoencoder.predict(X_train.reshape(-1, input_dim)).reshape(-1, time_steps, n_features)\n",
        "fig, axs = plt.subplots(n_features, 2, figsize=(15, 4 * n_features))\n",
        "for i in range(n_features):\n",
        "    # Train 데이터\n",
        "    axs[i, 0].plot(X_train[:, :, i].flatten(), label='Original')\n",
        "    axs[i, 0].plot(X_train_encoded[:, :, i].flatten(), label='Reconstructed')\n",
        "    axs[i, 0].set_title(f'Feature {i+1} - Train Data')\n",
        "    axs[i, 0].legend()\n",
        "\n",
        "    # Validation 데이터\n",
        "    axs[i, 1].plot(X_val[:, :, i].flatten(), label='Original')\n",
        "    axs[i, 1].plot(X_val_encoded[:, :, i].flatten(), label='Reconstructed')\n",
        "    axs[i, 1].set_title(f'Feature {i+1} - Validation Data')\n",
        "    axs[i, 1].legend()\n",
        "\n",
        "plt.show()\n",
        "\n",
        "#Current, Temperature, SOC, Current, Voltage순"
      ],
      "metadata": {
        "id": "ADyR9WTE55HV"
      },
      "execution_count": null,
      "outputs": []
    },
    {
      "cell_type": "markdown",
      "source": [],
      "metadata": {
        "id": "ljqbuNrCrCaH"
      }
    }
  ]
}