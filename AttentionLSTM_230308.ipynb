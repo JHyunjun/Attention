{
  "nbformat": 4,
  "nbformat_minor": 0,
  "metadata": {
    "colab": {
      "private_outputs": true,
      "provenance": [],
      "mount_file_id": "1bJWMo70N4KTzfh44a_pyaqLsp-uTyzM-",
      "authorship_tag": "ABX9TyP03nsUCDosgXktE511vikr",
      "include_colab_link": true
    },
    "kernelspec": {
      "name": "python3",
      "display_name": "Python 3"
    },
    "language_info": {
      "name": "python"
    },
    "accelerator": "GPU",
    "gpuClass": "standard"
  },
  "cells": [
    {
      "cell_type": "markdown",
      "metadata": {
        "id": "view-in-github",
        "colab_type": "text"
      },
      "source": [
        "<a href=\"https://colab.research.google.com/github/JHyunjun/Attention/blob/main/AttentionLSTM_230308.ipynb\" target=\"_parent\"><img src=\"https://colab.research.google.com/assets/colab-badge.svg\" alt=\"Open In Colab\"/></a>"
      ]
    },
    {
      "cell_type": "code",
      "metadata": {
        "id": "KXHGLwAcAtx6"
      },
      "source": [
        "from google.colab import drive\n",
        "drive.mount('/content/drive')"
      ],
      "execution_count": null,
      "outputs": []
    },
    {
      "cell_type": "code",
      "source": [
        "# Created by Hyunjun,JANG\n",
        "# limitsinx.tistory.com\n",
        "# Last revision date : 2023.03.08\n",
        "\n",
        "from sklearn.preprocessing import StandardScaler, MinMaxScaler\n",
        "import tensorflow as tf\n",
        "import matplotlib.pyplot as plt\n",
        "import pandas as pd\n",
        "import numpy as np\n",
        "\n",
        "xy_train = np.loadtxt('/content/drive/MyDrive/Colab Notebooks/LSTM/train_v.txt',delimiter=',',dtype=np.float32) #5808\n",
        "#xy_test = np.loadtxt('/content/drive/MyDrive/Colab Notebooks/LSTM/test_v.txt',delimiter=',',dtype=np.float32) #10883\n",
        "xy_test = xy_train\n",
        "\n",
        "def MinMaxScaler(data) : # Normal Std\n",
        "  numerator = data - np.min(data,0)\n",
        "  denominator = np.max(data,0) - np.min(data,0)\n",
        "\n",
        "  return numerator / (denominator + 1e-7)\n",
        "\n",
        "xy_train = MinMaxScaler(xy_train)\n",
        "xy_test = MinMaxScaler(xy_test)\n",
        "\n",
        "x_train = xy_train[:,0:-1]\n",
        "y_train = xy_train[:,[-1]]\n",
        "\n",
        "'''\n",
        "def origin_minmax(data) : #Mine\n",
        "  arr_max = np.zeros(data.shape[1])\n",
        "  arr_min = np.zeros(data.shape[1])\n",
        "  print(arr_min)\n",
        "  print(data.shape[1])\n",
        "  for i in range(data.shape[1]) : \n",
        "    #print(i)\n",
        "    max = np.max(data[:,i])\n",
        "    min = np.min(data[:,i]) \n",
        "    arr_max[i] = max\n",
        "    arr_min[i] = min\n",
        "    pass\n",
        "  return arr_max, arr_min\n",
        "\n",
        "arr_max1, arr_min1 = origin_minmax(xy_train)\n",
        "arr_max2, arr_min2 = origin_minmax(xy_test)\n",
        "\n",
        "print(arr_max1, arr_min1)\n",
        "print(arr_max2, arr_min2)\n",
        "\n",
        "def MinMaxScaler(data):\n",
        "  for i in range(data.shape[1]) : \n",
        "    max = np.max(data[:,i])\n",
        "    min = np.min(data[:,i])\n",
        "    data[:,i] = (data[:,i] - min) / (max - min + 1e-7)\n",
        "    pass\n",
        "  return data\n",
        "\n",
        "def back_MinMax(data,max,min):\n",
        "  print(max)\n",
        "  print(min)\n",
        "  for i in range(data.shape[1]) : \n",
        "    data[:,i] = data[:,i] * (max[i] - min[i]) + min[i]\n",
        "    pass\n",
        "  return data\n",
        "'''"
      ],
      "metadata": {
        "id": "1l02U5Re6bZc"
      },
      "execution_count": null,
      "outputs": []
    },
    {
      "cell_type": "code",
      "source": [
        "# Data Sequence Setting\n",
        "\n",
        "TIME_STEPS = 10\n",
        "seq_length = TIME_STEPS\n",
        "\n",
        "train_set = xy_train\n",
        "test_set = xy_test\n",
        "\n",
        "def build_dataset(time_series, seq_length) : \n",
        "  dataX = []\n",
        "  dataY = []\n",
        "  for i in range(0, len(time_series) -seq_length) : \n",
        "    x = time_series[i:i+seq_length , : -2]\n",
        "    y = time_series[i + seq_length -1, [-1]]\n",
        "    dataX.append(x)\n",
        "    dataY.append(y)\n",
        "\n",
        "  return np.array(dataX), np.array(dataY)\n",
        "\n",
        "trainX, trainY = build_dataset(train_set, seq_length)\n",
        "testX, testY = build_dataset(test_set, seq_length)\n",
        "\n",
        "print(trainX.shape, trainY.shape) #(# of datas, Time_steps, features)\n",
        "\n",
        "INPUT_DIM = trainX.shape[2]"
      ],
      "metadata": {
        "id": "Ajf3ryn47eG8"
      },
      "execution_count": null,
      "outputs": []
    },
    {
      "cell_type": "code",
      "source": [
        "# Network Design\n",
        "\n",
        "def attention_3d_block(inputs) : \n",
        "  input_dim = int(inputs.shape[2])\n",
        "  a = tf.keras.layers.Permute((2,1))(inputs)\n",
        "  a = tf.keras.layers.Dense(TIME_STEPS, activation = 'softmax')(a)\n",
        "  a_probs = tf.keras.layers.Permute((2,1), name = 'attention_vec')(a)\n",
        "  output_attention_mul = tf.keras.layers.multiply([inputs, a_probs])\n",
        "\n",
        "  return output_attention_mul\n",
        "\n",
        "\n",
        "def model_attention_applied_after_lstm() : \n",
        "  inputs = tf.keras.Input(shape = (TIME_STEPS, INPUT_DIM,))\n",
        "  lstm_units = 64\n",
        "  lstm_out = tf.keras.layers.LSTM(lstm_units, return_sequences = True)(inputs)\n",
        "  attention_mul = attention_3d_block(lstm_out)\n",
        "  attention_mul = tf.keras.layers.Flatten()(attention_mul)\n",
        "  output = tf.keras.layers.Dense(1, activation = 'sigmoid')(attention_mul)\n",
        "  model = tf.keras.Model(inputs = [inputs], outputs = output)\n",
        "\n",
        "  return model\n",
        "\n",
        "modelhj = model_attention_applied_after_lstm()\n",
        "modelhj.compile(optimizer = 'adam', loss = 'mse')\n",
        "modelhj.fit(trainX, trainY, epochs = 10, batch_size = 1, validation_split = 0)\n",
        "  "
      ],
      "metadata": {
        "id": "geadwNwt8otb"
      },
      "execution_count": null,
      "outputs": []
    },
    {
      "cell_type": "code",
      "source": [
        "# Figure\n",
        "\n",
        "trainY_predict = modelhj.predict(trainX)\n",
        "plt.figure(figsize = (6,8))\n",
        "plt.plot(trainY, color = 'blue')\n",
        "plt.plot(trainY_predict, color = 'red')\n",
        "plt.legend(['Real Voltage', 'Predicted Voltage'])\n",
        "\n",
        "layer_outputs = [layer.output for layer in modelhj.layers if layer.name == 'attention_vec']\n",
        "activation_model = tf.keras.models.Model(inputs = modelhj.input, outputs = layer_outputs)\n",
        "\n",
        "attention_vectors = []\n",
        "\n",
        "for i in range(100) : \n",
        "  predict_output = activation_model.predict(testX[i+1000,:,:].reshape(1,TIME_STEPS,trainX.shape[2]))\n",
        "  dols = np.mean(predict_output, axis = 2).squeeze()\n",
        "  assert(np.sum(dols) - 1.0) < 1e-5\n",
        "  attention_vectors.append(dols)\n",
        "  attention_vector_final = np.mean(np.array(attention_vectors),axis = 0)\n",
        "\n",
        "pd.DataFrame(attention_vector_final, columns = ['attention(%)']).plot.bar()"
      ],
      "metadata": {
        "id": "87EpPSr3-ML6"
      },
      "execution_count": null,
      "outputs": []
    }
  ]
}