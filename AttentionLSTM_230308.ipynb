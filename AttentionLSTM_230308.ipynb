{
  "nbformat": 4,
  "nbformat_minor": 0,
  "metadata": {
    "colab": {
      "private_outputs": true,
      "provenance": [],
      "mount_file_id": "1bJWMo70N4KTzfh44a_pyaqLsp-uTyzM-",
      "authorship_tag": "ABX9TyPtKzc1YCPvPoXjyXZg1dNB",
      "include_colab_link": true
    },
    "kernelspec": {
      "name": "python3",
      "display_name": "Python 3"
    },
    "language_info": {
      "name": "python"
    },
    "accelerator": "GPU",
    "gpuClass": "standard"
  },
  "cells": [
    {
      "cell_type": "markdown",
      "metadata": {
        "id": "view-in-github",
        "colab_type": "text"
      },
      "source": [
        "<a href=\"https://colab.research.google.com/github/JHyunjun/Attention/blob/main/AttentionLSTM_230308.ipynb\" target=\"_parent\"><img src=\"https://colab.research.google.com/assets/colab-badge.svg\" alt=\"Open In Colab\"/></a>"
      ]
    },
    {
      "cell_type": "code",
      "metadata": {
        "id": "KXHGLwAcAtx6"
      },
      "source": [
        "# Created by Hyunjun,JANG\n",
        "# limitsinx.tistory.com\n",
        "# Last revision date : 2023.03.08\n",
        "\n",
        "from sklearn.preprocessing import StandardScaler, MinMaxScaler\n",
        "import tensorflow as tf\n",
        "import matplotlib.pyplot as plt\n",
        "import pandas as pd\n",
        "import numpy as np\n",
        "\n",
        "xy_train = np.loadtxt('/content/drive/MyDrive/Colab Notebooks/LSTM/train_v.txt',delimiter=',',dtype=np.float32) \n",
        "#xy_test = np.loadtxt('/content/drive/MyDrive/Colab Notebooks/LSTM/test_v.txt',delimiter=',',dtype=np.float32) \n",
        "xy_test = xy_train\n",
        "\n",
        "def MinMaxScaler(data) : \n",
        "  numerator = data - np.min(data,0)\n",
        "  denominator = np.max(data,0) - np.min(data,0)\n",
        "\n",
        "  return numerator / (denominator + 1e-7)\n",
        "\n",
        "xy_train = MinMaxScaler(xy_train)\n",
        "print(xy_train)\n",
        "xy_test = MinMaxScaler(xy_test)\n",
        "print(xy_test)\n",
        "print(len(xy_train))\n",
        "print(len(xy_test))\n"
      ],
      "execution_count": null,
      "outputs": []
    }
  ]
}