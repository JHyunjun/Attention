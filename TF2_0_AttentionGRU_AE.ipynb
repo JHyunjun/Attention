{
  "nbformat": 4,
  "nbformat_minor": 0,
  "metadata": {
    "colab": {
      "private_outputs": true,
      "provenance": [],
      "mount_file_id": "1bJWMo70N4KTzfh44a_pyaqLsp-uTyzM-",
      "authorship_tag": "ABX9TyOJHjh6O3MT752DW7jpW2bI",
      "include_colab_link": true
    },
    "kernelspec": {
      "name": "python3",
      "display_name": "Python 3"
    },
    "language_info": {
      "name": "python"
    },
    "accelerator": "GPU",
    "gpuClass": "standard"
  },
  "cells": [
    {
      "cell_type": "markdown",
      "metadata": {
        "id": "view-in-github",
        "colab_type": "text"
      },
      "source": [
        "<a href=\"https://colab.research.google.com/github/JHyunjun/Attention/blob/main/TF2_0_AttentionGRU_AE.ipynb\" target=\"_parent\"><img src=\"https://colab.research.google.com/assets/colab-badge.svg\" alt=\"Open In Colab\"/></a>"
      ]
    },
    {
      "cell_type": "code",
      "source": [
        "# Created by Hyunjun,JANG\n",
        "# limitsinx.tistory.com\n",
        "# Last revision date : 2023.03.08\n",
        "\n",
        "from sklearn.preprocessing import StandardScaler, MinMaxScaler\n",
        "import tensorflow as tf\n",
        "import matplotlib.pyplot as plt\n",
        "import pandas as pd\n",
        "import numpy as np\n",
        "\n",
        "xy_train = np.loadtxt('/content/drive/MyDrive/Colab Notebooks/LSTM/train_v.txt',delimiter=',',dtype=np.float32) #5808\n",
        "xy_test = np.loadtxt('/content/drive/MyDrive/Colab Notebooks/LSTM/test_v.txt',delimiter=',',dtype=np.float32) #10883\n",
        "#xy_test = xy_train\n",
        "\n",
        "def MinMaxScaler(data) : # Normal Std\n",
        "  numerator = data - np.min(data,0)\n",
        "  denominator = np.max(data,0) - np.min(data,0)\n",
        "\n",
        "  return numerator / (denominator + 1e-7)\n",
        "\n",
        "def origin_minmax(data) : # HJ STYLE\n",
        "  arr_max = np.zeros(data.shape[1])\n",
        "  arr_min = np.zeros(data.shape[1])\n",
        "\n",
        "  for i in range(data.shape[1]) : \n",
        "    max = np.max(data[:,i])\n",
        "    min = np.min(data[:,i])\n",
        "    arr_max[i] = max\n",
        "    arr_min[i] = min\n",
        "    pass\n",
        "  return arr_max, arr_min\n",
        "\n",
        "arr_max_train, arr_min_train = origin_minmax(xy_train)\n",
        "arr_max_test, arr_min_test = origin_minmax(xy_test)\n",
        "arr_max_total = arr_max_train\n",
        "arr_min_total = arr_min_train\n",
        "print(arr_max_train, arr_min_train)\n",
        "print(arr_max_test, arr_min_test)\n",
        "\n",
        "for i in range(xy_train.shape[1]) : \n",
        "  print(i)\n",
        "  if(arr_max_train[i] > arr_max_test[i]) : \n",
        "    arr_max_total[i] = arr_max_train[i]\n",
        "  else : \n",
        "    arr_max_total[i] = arr_max_test[i]\n",
        "  pass\n",
        "\n",
        "for i in range(xy_train.shape[1]) : \n",
        "  if(arr_min_train[i] < arr_min_test[i]) : \n",
        "    arr_min_total[i] = arr_min_train[i]\n",
        "  else : \n",
        "    arr_min_total[i] = arr_min_test[i]\n",
        "  pass\n",
        "\n",
        "print(arr_max_total, arr_min_total)\n",
        "\n",
        "def HJ_MinMaxScaler(data) : \n",
        "  for i in range(data.shape[1]) : \n",
        "    numerator = data[:,i] - arr_min_total[i]\n",
        "    denominator = arr_max_total[i] - arr_min_total[i]\n",
        "    data[:,i] = numerator / (denominator + 1e-7)\n",
        "    \n",
        "  return data\n",
        "\n",
        "def HJ_backMinMax(data) : \n",
        "  for i in range(data.shape[1]) : \n",
        "    data[:,i] = data[:,i] * (arr_max_total[i] - arr_min_total[i]) + arr_min_total[i]\n",
        "\n",
        "  return data\n",
        "\n",
        "xy_train_scale = HJ_MinMaxScaler(xy_train)\n",
        "xy_test_scale = HJ_MinMaxScaler(xy_test)"
      ],
      "metadata": {
        "id": "1l02U5Re6bZc"
      },
      "execution_count": null,
      "outputs": []
    },
    {
      "cell_type": "code",
      "source": [
        "# Data Sequence Setting\n",
        "TIME_STEPS = 5\n",
        "seq_length = TIME_STEPS\n",
        "\n",
        "train_set = xy_train_scale\n",
        "test_set = xy_test_scale\n",
        "\n",
        "def build_dataset(time_series, seq_length) : \n",
        "  dataX = []\n",
        "  dataY = []\n",
        "  for i in range(0, len(time_series) -seq_length) : \n",
        "    x = time_series[i:i+seq_length , : :]\n",
        "    y = time_series[i + seq_length -1, :]\n",
        "    dataX.append(x)\n",
        "    dataY.append(y)\n",
        "\n",
        "  return np.array(dataX), np.array(dataY)\n",
        "\n",
        "trainX, trainY = build_dataset(train_set, seq_length)\n",
        "testX, testY = build_dataset(test_set, seq_length)\n",
        "\n",
        "print(trainX.shape, trainY.shape) #(# of datas, Time_steps, features)\n",
        "\n",
        "INPUT_DIM = trainX.shape[2]"
      ],
      "metadata": {
        "id": "Ajf3ryn47eG8"
      },
      "execution_count": null,
      "outputs": []
    },
    {
      "cell_type": "code",
      "source": [
        "#AttentionGRUAE NEW\n",
        "\n",
        "def attention_layer_encoder(inputs) :\n",
        "  input_dim = int(inputs.shape[2])\n",
        "  a = tf.keras.layers.Permute((2,1))(inputs)\n",
        "  a = tf.keras.layers.Dense(TIME_STEPS, activation = 'softmax')(a)\n",
        "  a_probs = tf.keras.layers.Permute((2,1), name = 'attention_vec_encoder')(a)\n",
        "  output_attention_mul = tf.keras.layers.multiply([inputs, a_probs])\n",
        "\n",
        "  return output_attention_mul\n",
        "\n",
        "def attention_layer_decoder(inputs) :\n",
        "  input_dim = int(inputs.shape[2])\n",
        "  a = tf.keras.layers.Permute((2,1))(inputs)\n",
        "  a = tf.keras.layers.Dense(TIME_STEPS, activation = 'softmax')(a)\n",
        "  a_probs = tf.keras.layers.Permute((2,1), name = 'attention_vec_decoder')(a)\n",
        "  output_attention_mul = tf.keras.layers.multiply([inputs, a_probs])\n",
        "\n",
        "  return output_attention_mul\n",
        "\n",
        "def Attention_GRU_AE() : \n",
        "  # Encoding\n",
        "  inputs = tf.keras.Input(shape = (TIME_STEPS, INPUT_DIM, ))\n",
        "  gru_units = 32\n",
        "  gru_out = tf.keras.layers.GRU(gru_units, return_sequences = True)(inputs)\n",
        "  gru_out = tf.keras.layers.GRU(gru_units, return_sequences = True)(gru_out)\n",
        "  encoder_output = attention_layer_encoder(gru_out)\n",
        "  # Decoding\n",
        "  decoder_gru_units = 32\n",
        "  decoder_gru_out = tf.keras.layers.GRU(decoder_gru_units, return_sequences = True)(encoder_output)\n",
        "  decoder_gru_out = tf.keras.layers.GRU(decoder_gru_units, return_sequences = True)(decoder_gru_out)\n",
        "  attention_decoder = attention_layer_decoder(decoder_gru_out)\n",
        "  attention_decoder = tf.keras.layers.Flatten()(attention_decoder)\n",
        "  output = tf.keras.layers.Dense(INPUT_DIM, activation = 'sigmoid')(attention_decoder)\n",
        "  model = tf.keras.Model(inputs = [inputs], outputs = output)\n",
        "\n",
        "  return model"
      ],
      "metadata": {
        "id": "geadwNwt8otb"
      },
      "execution_count": null,
      "outputs": []
    },
    {
      "cell_type": "code",
      "source": [
        "#RUN\n",
        "modelhj = Attention_GRU_AE()\n",
        "modelhj.compile(optimizer = 'adam', loss = 'mse')\n",
        "modelhj.fit(trainX, trainY, epochs = 3, batch_size = 1, validation_split = 0)"
      ],
      "metadata": {
        "id": "rfl-ekjuaKNQ"
      },
      "execution_count": null,
      "outputs": []
    },
    {
      "cell_type": "code",
      "source": [
        "# Training\n",
        "trainY_predict = modelhj.predict(trainX)\n",
        "print(trainY_predict.shape)"
      ],
      "metadata": {
        "id": "V2rx6W_KgxSg"
      },
      "execution_count": null,
      "outputs": []
    },
    {
      "cell_type": "code",
      "source": [
        "trainY_predict_back = HJ_backMinMax(trainY_predict)\n",
        "trainY_back = HJ_backMinMax(trainY)\n",
        "\n",
        "plt.figure(figsize = (12,16))\n",
        "plt.subplot(2,2,1)\n",
        "plt.plot(trainY_back[seq_length:,0], color = 'blue')\n",
        "plt.plot(trainY_predict_back[:,0], color = 'red')\n",
        "plt.legend(['Real Current','Predicted Current'])\n",
        "\n",
        "plt.subplot(2,2,2)\n",
        "plt.plot(trainY_back[seq_length:,1], color = 'blue')\n",
        "plt.plot(trainY_predict_back[:,1], color = 'red')\n",
        "plt.legend(['Real Temperature','Predicted Temperature'])\n",
        "\n",
        "plt.subplot(2,2,3)\n",
        "plt.plot(trainY_back[seq_length:,2], color = 'blue')\n",
        "plt.plot(trainY_predict_back[:,2], color = 'red')\n",
        "plt.legend(['Real SOC','Predicted SOC'])\n",
        "\n",
        "plt.plot(trainY_back[seq_length:,3], color = 'blue')\n",
        "plt.plot(trainY_predict_back[:,3], color = 'red')\n",
        "plt.legend(['Real Current','Predicted Current'])\n",
        "\n",
        "plt.subplot(2,2,4)\n",
        "plt.plot(trainY_back[seq_length:,4], color = 'blue')\n",
        "plt.plot(trainY_predict_back[:,4], color = 'red')\n",
        "plt.legend(['Real Voltage','Predicted Voltage'])"
      ],
      "metadata": {
        "id": "Vd3Hli2qhDUc"
      },
      "execution_count": null,
      "outputs": []
    },
    {
      "cell_type": "code",
      "source": [
        "# Training\n",
        "testY_predict = modelhj.predict(testX)\n",
        "print(testY_predict.shape)"
      ],
      "metadata": {
        "id": "7buDSIjWtEFK"
      },
      "execution_count": null,
      "outputs": []
    },
    {
      "cell_type": "code",
      "source": [
        "testY_predict_back = HJ_backMinMax(testY_predict)\n",
        "testY_back = HJ_backMinMax(testY)\n",
        "\n",
        "plt.figure(figsize = (12,16))\n",
        "plt.subplot(2,2,1)\n",
        "plt.plot(testY_back[seq_length:,0], color = 'blue')\n",
        "plt.plot(testY_predict_back[:,0], color = 'red')\n",
        "plt.legend(['Real Current','Predicted Current'])\n",
        "\n",
        "plt.subplot(2,2,2)\n",
        "plt.plot(testY_back[seq_length:,1], color = 'blue')\n",
        "plt.plot(testY_predict_back[:,1], color = 'red')\n",
        "plt.legend(['Real Temperature','Predicted Temperature'])\n",
        "\n",
        "plt.subplot(2,2,3)\n",
        "plt.plot(testY_back[seq_length:,2], color = 'blue')\n",
        "plt.plot(testY_predict_back[:,2], color = 'red')\n",
        "plt.legend(['Real SOC','Predicted SOC'])\n",
        "\n",
        "plt.plot(testY_back[seq_length:,3], color = 'blue')\n",
        "plt.plot(testY_predict_back[:,3], color = 'red')\n",
        "plt.legend(['Real Current','Predicted Current'])\n",
        "\n",
        "plt.subplot(2,2,4)\n",
        "plt.plot(testY_back[seq_length:,4], color = 'blue')\n",
        "plt.plot(testY_predict_back[:,4], color = 'red')\n",
        "plt.legend(['Real Voltage','Predicted Voltage'])"
      ],
      "metadata": {
        "id": "A9PfRBEPnqM0"
      },
      "execution_count": null,
      "outputs": []
    }
  ]
}