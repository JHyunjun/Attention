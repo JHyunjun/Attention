{
  "nbformat": 4,
  "nbformat_minor": 0,
  "metadata": {
    "colab": {
      "private_outputs": true,
      "provenance": [],
      "authorship_tag": "ABX9TyN4JcywbhqCbb4zC3bASR5/",
      "include_colab_link": true
    },
    "kernelspec": {
      "name": "python3",
      "display_name": "Python 3"
    },
    "language_info": {
      "name": "python"
    }
  },
  "cells": [
    {
      "cell_type": "markdown",
      "metadata": {
        "id": "view-in-github",
        "colab_type": "text"
      },
      "source": [
        "<a href=\"https://colab.research.google.com/github/JHyunjun/Attention/blob/main/TF_SelfAttention_230315.ipynb\" target=\"_parent\"><img src=\"https://colab.research.google.com/assets/colab-badge.svg\" alt=\"Open In Colab\"/></a>"
      ]
    },
    {
      "cell_type": "code",
      "source": [
        "import tensorflow as tf\n",
        "from tensorflow.keras.layers import Dense, Input, MultiHeadAttention\n",
        "from tensorflow.keras.models import Model\n"
      ],
      "metadata": {
        "id": "SRBO3o31Ryt3"
      },
      "execution_count": null,
      "outputs": []
    },
    {
      "cell_type": "code",
      "source": [
        "# 입력 데이터 생성\n",
        "x_train = np.random.randn(32, 10, 3)\n",
        "y_train = np.random.randn(32, 1)\n"
      ],
      "metadata": {
        "id": "Wk_E_iLuR1lt"
      },
      "execution_count": null,
      "outputs": []
    },
    {
      "cell_type": "code",
      "source": [
        "# 모델 정의\n",
        "inputs = Input(shape=(10, 3))\n",
        "self_attention = MultiHeadAttention(num_heads=8, key_dim=3)\n",
        "outputs = self_attention(inputs, inputs)\n",
        "outputs = Dense(1, activation=\"linear\")(outputs)\n",
        "model = Model(inputs=inputs, outputs=outputs)\n"
      ],
      "metadata": {
        "id": "6pknAxpUR2mu"
      },
      "execution_count": null,
      "outputs": []
    },
    {
      "cell_type": "code",
      "source": [
        "# 모델 컴파일 및 학습\n",
        "model.compile(optimizer=\"adam\", loss=\"mse\")\n",
        "model.fit(x_train, y_train, epochs=10)\n"
      ],
      "metadata": {
        "id": "5DH8xAhqR4Zc"
      },
      "execution_count": null,
      "outputs": []
    },
    {
      "cell_type": "code",
      "source": [
        "# Self-Attention Score 확인\n",
        "attention_scores = self_attention.get_attention(inputs, mask=None, return_attention_scores=True)\n",
        "print(attention_scores.shape)\n"
      ],
      "metadata": {
        "id": "NqntLVWRR5_s"
      },
      "execution_count": null,
      "outputs": []
    },
    {
      "cell_type": "code",
      "source": [
        "# Attention Score 확인\n",
        "import numpy as np\n",
        "\n",
        "np.set_printoptions(precision=3, suppress=True)\n",
        "print(attention_scores[0])\n"
      ],
      "metadata": {
        "id": "JYQZIMCySERN"
      },
      "execution_count": null,
      "outputs": []
    }
  ]
}